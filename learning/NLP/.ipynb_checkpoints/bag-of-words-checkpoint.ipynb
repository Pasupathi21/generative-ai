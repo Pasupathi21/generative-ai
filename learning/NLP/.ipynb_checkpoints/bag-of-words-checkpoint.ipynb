{
 "cells": [
  {
   "cell_type": "code",
   "execution_count": 47,
   "id": "be54701a-043b-4325-bf55-6334dbe8008f",
   "metadata": {},
   "outputs": [],
   "source": [
    "import pandas as pd\n",
    "spam_data = pd.read_csv('./data/spam.csv', sep='\\t', encoding='ISO-8859-1')"
   ]
  },
  {
   "cell_type": "code",
   "execution_count": 59,
   "id": "b9b284ac-e237-4a60-8f94-0aa044a28569",
   "metadata": {},
   "outputs": [
    {
     "name": "stdout",
     "output_type": "stream",
     "text": [
      "v1,v2,,,    ham,\"Go until jurong point, crazy.. Available ...\n",
      "Name: 0, dtype: object\n"
     ]
    }
   ],
   "source": [
    "print(str(spam_data.loc[0]))"
   ]
  },
  {
   "cell_type": "markdown",
   "id": "39125b41-219a-41e5-a5d9-eb427616aab7",
   "metadata": {},
   "source": [
    "## Data clean up using NLTK and other packages"
   ]
  },
  {
   "cell_type": "code",
   "execution_count": 69,
   "id": "e9eb9ec6-9a3c-4d1a-ad0a-fd62121c3baf",
   "metadata": {},
   "outputs": [],
   "source": [
    "import nltk\n",
    "from nltk.corpus import stopwords\n",
    "from nltk.stem import PorterStemmer\n",
    "ps = PorterStemmer()"
   ]
  },
  {
   "cell_type": "code",
   "execution_count": 74,
   "id": "1caff962-cae7-40a8-9c89-7b030a98532a",
   "metadata": {},
   "outputs": [
    {
     "name": "stdout",
     "output_type": "stream",
     "text": [
      "<class 'list'>\n"
     ]
    }
   ],
   "source": [
    "## nltk.download('stopwords')\n",
    "print(type(stopwords.words('english')))"
   ]
  },
  {
   "cell_type": "code",
   "execution_count": null,
   "id": "52713b7a-a4f4-4e63-bacb-5eba6ba23614",
   "metadata": {},
   "outputs": [],
   "source": [
    "## read message one by one\n",
    "## split based on  tabs for only getting message usnig regexp\n",
    "## convert into lower \n",
    "## remove stop words with stemming"
   ]
  },
  {
   "cell_type": "code",
   "execution_count": 76,
   "id": "5bd1f6cc-78e7-4bdc-b3e8-a88cf19dab65",
   "metadata": {},
   "outputs": [
    {
     "name": "stdout",
     "output_type": "stream",
     "text": [
      "['1,v2,,,', 'ham,\"go', 'until', 'jurong', 'point,', 'crazy..', 'available', '...', 'name:', '0,', 'dtype:', 'object']\n",
      "------------------------\n",
      "['1,v2,,,', 'ham,\"go', 'jurong', 'point,', 'crazy..', 'avail', '...', 'name:', '0,', 'dtype:', 'object']\n",
      "['1,v2,,,', 'ham,ok', 'lar...', 'joking', 'wif', 'u', 'oni...,,,', 'name:', '1,', 'dtype:', 'object']\n",
      "------------------------\n",
      "['1,v2,,,', 'ham,ok', 'lar...', 'joke', 'wif', 'u', 'oni...,,,', 'name:', '1,', 'dtype:', 'object']\n",
      "['1,v2,,,', 'spam,free', 'entry', 'in', '2', 'a', 'wkly', 'comp', 'to', 'win', 'fa', 'cup...', 'name:', '2,', 'dtype:', 'object']\n",
      "------------------------\n",
      "['1,v2,,,', 'spam,fre', 'entri', '2', 'wkli', 'comp', 'win', 'fa', 'cup...', 'name:', '2,', 'dtype:', 'object']\n",
      "['1,v2,,,', 'ham,u', 'dun', 'say', 'so', 'early', 'hor...', 'u', 'c', 'already', 'then...', 'name:', '3,', 'dtype:', 'object']\n",
      "------------------------\n",
      "['1,v2,,,', 'ham,u', 'dun', 'say', 'earli', 'hor...', 'u', 'c', 'alreadi', 'then...', 'name:', '3,', 'dtype:', 'object']\n",
      "['1,v2,,,', 'ham,\"nah', 'i', \"don't\", 'think', 'he', 'goes', 'to', 'usf,', 'he', 'live...', 'name:', '4,', 'dtype:', 'object']\n",
      "------------------------\n",
      "['1,v2,,,', 'ham,\"nah', 'think', 'goe', 'usf,', 'live...', 'name:', '4,', 'dtype:', 'object']\n"
     ]
    }
   ],
   "source": [
    "import re\n",
    "for i in range(0, 5):\n",
    "   messages= re.sub(r'^[a-zA-Z]', '', str(spam_data.loc[i]))  \n",
    "   messages= messages.lower()\n",
    "   messages= messages.split()  \n",
    "   messages= [ ps.stem(word) for word in messages if word not in stopwords.words('english')]\n",
    "   print(messages)"
   ]
  },
  {
   "cell_type": "code",
   "execution_count": null,
   "id": "7786ade8-3dad-4619-a820-fc6b751d3e0c",
   "metadata": {},
   "outputs": [],
   "source": []
  }
 ],
 "metadata": {
  "kernelspec": {
   "display_name": "Python 3 (ipykernel)",
   "language": "python",
   "name": "python3"
  },
  "language_info": {
   "codemirror_mode": {
    "name": "ipython",
    "version": 3
   },
   "file_extension": ".py",
   "mimetype": "text/x-python",
   "name": "python",
   "nbconvert_exporter": "python",
   "pygments_lexer": "ipython3",
   "version": "3.12.0"
  }
 },
 "nbformat": 4,
 "nbformat_minor": 5
}
