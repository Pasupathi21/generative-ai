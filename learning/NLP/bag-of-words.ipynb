{
 "cells": [
  {
   "cell_type": "code",
   "execution_count": 2,
   "id": "be54701a-043b-4325-bf55-6334dbe8008f",
   "metadata": {},
   "outputs": [],
   "source": [
    "import pandas as pd\n",
    "spam_data = pd.read_csv('./data/spam.csv', sep='\\t', encoding='ISO-8859-1')"
   ]
  },
  {
   "cell_type": "code",
   "execution_count": 3,
   "id": "b9b284ac-e237-4a60-8f94-0aa044a28569",
   "metadata": {},
   "outputs": [
    {
     "name": "stdout",
     "output_type": "stream",
     "text": [
      "v1,v2,,,    ham,\"Go until jurong point, crazy.. Available ...\n",
      "Name: 0, dtype: object\n"
     ]
    }
   ],
   "source": [
    "print(str(spam_data.loc[0]))"
   ]
  },
  {
   "cell_type": "markdown",
   "id": "39125b41-219a-41e5-a5d9-eb427616aab7",
   "metadata": {},
   "source": [
    "## Data clean up using NLTK and other packages"
   ]
  },
  {
   "cell_type": "code",
   "execution_count": 4,
   "id": "e9eb9ec6-9a3c-4d1a-ad0a-fd62121c3baf",
   "metadata": {},
   "outputs": [],
   "source": [
    "import nltk\n",
    "from nltk.corpus import stopwords\n",
    "from nltk.stem import PorterStemmer\n",
    "ps = PorterStemmer()"
   ]
  },
  {
   "cell_type": "code",
   "execution_count": 5,
   "id": "1caff962-cae7-40a8-9c89-7b030a98532a",
   "metadata": {},
   "outputs": [
    {
     "name": "stdout",
     "output_type": "stream",
     "text": [
      "<class 'list'>\n"
     ]
    }
   ],
   "source": [
    "## nltk.download('stopwords')\n",
    "print(type(stopwords.words('english')))"
   ]
  },
  {
   "cell_type": "code",
   "execution_count": 82,
   "id": "52713b7a-a4f4-4e63-bacb-5eba6ba23614",
   "metadata": {},
   "outputs": [],
   "source": [
    "## read message one by one\n",
    "## split based on  tabs for only getting message usnig regexp\n",
    "## convert into lower \n",
    "## remove stop words with stemming"
   ]
  },
  {
   "cell_type": "code",
   "execution_count": 6,
   "id": "5bd1f6cc-78e7-4bdc-b3e8-a88cf19dab65",
   "metadata": {},
   "outputs": [
    {
     "name": "stdout",
     "output_type": "stream",
     "text": [
      "5574\n"
     ]
    }
   ],
   "source": [
    "import re\n",
    "corpus=[]\n",
    "for i in range(0, len(spam_data)):\n",
    "   messages= re.sub(r'^[a-zA-Z]', '', str(spam_data.loc[i]))  \n",
    "   messages= messages.lower()\n",
    "   messages= messages.split()  \n",
    "   messages= [ps.stem(word) for word in messages if word not in stopwords.words('english')]\n",
    "   corpus.append(' '.join(messages)) \n",
    "  # print(messages)\n",
    "print(len(corpus))"
   ]
  },
  {
   "cell_type": "code",
   "execution_count": 83,
   "id": "7786ade8-3dad-4619-a820-fc6b751d3e0c",
   "metadata": {},
   "outputs": [],
   "source": [
    "# creating Bag Of Words using scikit learn CountVectorizer"
   ]
  },
  {
   "cell_type": "code",
   "execution_count": 1,
   "id": "369c4a61-8cdd-42ab-b439-978d86e19128",
   "metadata": {},
   "outputs": [
    {
     "ename": "NameError",
     "evalue": "name 'corpus' is not defined",
     "output_type": "error",
     "traceback": [
      "\u001b[31m---------------------------------------------------------------------------\u001b[39m",
      "\u001b[31mNameError\u001b[39m                                 Traceback (most recent call last)",
      "\u001b[36mCell\u001b[39m\u001b[36m \u001b[39m\u001b[32mIn[1]\u001b[39m\u001b[32m, line 3\u001b[39m\n\u001b[32m      1\u001b[39m \u001b[38;5;28;01mfrom\u001b[39;00m\u001b[38;5;250m \u001b[39m\u001b[34;01msklearn\u001b[39;00m\u001b[34;01m.\u001b[39;00m\u001b[34;01mfeature_extraction\u001b[39;00m\u001b[34;01m.\u001b[39;00m\u001b[34;01mtext\u001b[39;00m\u001b[38;5;250m \u001b[39m\u001b[38;5;28;01mimport\u001b[39;00m CountVectorizer\n\u001b[32m      2\u001b[39m cv= CountVectorizer(max_features=\u001b[32m100\u001b[39m, binary=\u001b[38;5;28;01mTrue\u001b[39;00m, ngram_range=(\u001b[32m2\u001b[39m, \u001b[32m2\u001b[39m))\n\u001b[32m----> \u001b[39m\u001b[32m3\u001b[39m vector_data = cv.fit_transform(\u001b[43mcorpus\u001b[49m).toarray()\n\u001b[32m      4\u001b[39m vector_data\n",
      "\u001b[31mNameError\u001b[39m: name 'corpus' is not defined"
     ]
    }
   ],
   "source": [
    "from sklearn.feature_extraction.text import CountVectorizer\n",
    "cv= CountVectorizer(max_features=100, binary=True, ngram_range=(2, 2))\n",
    "vector_data = cv.fit_transform(corpus).toarray()\n",
    "vector_data"
   ]
  },
  {
   "cell_type": "code",
   "execution_count": 107,
   "id": "08793f5c-7913-4295-8ca4-186d99a43088",
   "metadata": {
    "scrolled": true
   },
   "outputs": [
    {
     "data": {
      "text/plain": [
       "{'v2': np.int64(86),\n",
       " 'ham': np.int64(23),\n",
       " 'go': np.int64(18),\n",
       " 'name': np.int64(48),\n",
       " 'dtype': np.int64(14),\n",
       " 'object': np.int64(54),\n",
       " 'ok': np.int64(56),\n",
       " 'spam': np.int64(70),\n",
       " 'win': np.int64(94),\n",
       " 'say': np.int64(64),\n",
       " 'then': np.int64(78),\n",
       " 'think': np.int64(80),\n",
       " 'hey': np.int64(24),\n",
       " 'like': np.int64(35),\n",
       " 'you': np.int64(98),\n",
       " 'mobil': np.int64(45),\n",
       " 'home': np.int64(26),\n",
       " 'want': np.int64(88),\n",
       " 'urgent': np.int64(85),\n",
       " 'week': np.int64(91),\n",
       " 'free': np.int64(15),\n",
       " 'right': np.int64(62),\n",
       " 'oh': np.int64(55),\n",
       " 'way': np.int64(90),\n",
       " 'th': np.int64(75),\n",
       " 'dont': np.int64(13),\n",
       " 'miss': np.int64(44),\n",
       " 'tri': np.int64(83),\n",
       " 'so': np.int64(67),\n",
       " 'ì_': np.int64(99),\n",
       " 'da': np.int64(9),\n",
       " 'meet': np.int64(42),\n",
       " 'just': np.int64(32),\n",
       " 'lol': np.int64(36),\n",
       " 'back': np.int64(3),\n",
       " 'now': np.int64(52),\n",
       " 'work': np.int64(95),\n",
       " 'that': np.int64(77),\n",
       " 'wait': np.int64(87),\n",
       " 'still': np.int64(71),\n",
       " 'yeah': np.int64(96),\n",
       " 'got': np.int64(20),\n",
       " 'tell': np.int64(73),\n",
       " 'thank': np.int64(76),\n",
       " 'time': np.int64(81),\n",
       " 'know': np.int64(33),\n",
       " 'see': np.int64(65),\n",
       " 'lor': np.int64(37),\n",
       " 'how': np.int64(28),\n",
       " 'pl': np.int64(60),\n",
       " 'msg': np.int64(46),\n",
       " 'great': np.int64(21),\n",
       " 'hope': np.int64(27),\n",
       " 'well': np.int64(92),\n",
       " 'no': np.int64(51),\n",
       " 'get': np.int64(16),\n",
       " 'can': np.int64(6),\n",
       " 'co': np.int64(7),\n",
       " 'what': np.int64(93),\n",
       " 'me': np.int64(41),\n",
       " 'lt': np.int64(39),\n",
       " 'gt': np.int64(22),\n",
       " 'new': np.int64(50),\n",
       " 'do': np.int64(12),\n",
       " 'sorry': np.int64(69),\n",
       " 'call': np.int64(5),\n",
       " 'later': np.int64(34),\n",
       " 'pick': np.int64(59),\n",
       " 'good': np.int64(19),\n",
       " 'it': np.int64(31),\n",
       " 'sorri': np.int64(68),\n",
       " 'if': np.int64(29),\n",
       " 'pleas': np.int64(61),\n",
       " 'today': np.int64(82),\n",
       " 'day': np.int64(10),\n",
       " 'ur': np.int64(84),\n",
       " 'give': np.int64(17),\n",
       " 'hi': np.int64(25),\n",
       " 'babe': np.int64(2),\n",
       " 'im': np.int64(30),\n",
       " 'much': np.int64(47),\n",
       " 'yo': np.int64(97),\n",
       " 'need': np.int64(49),\n",
       " 'send': np.int64(66),\n",
       " 'make': np.int64(40),\n",
       " 'come': np.int64(8),\n",
       " 'buy': np.int64(4),\n",
       " 'wat': np.int64(89),\n",
       " 'text': np.int64(74),\n",
       " 'love': np.int64(38),\n",
       " 'said': np.int64(63),\n",
       " 'mi': np.int64(43),\n",
       " 'number': np.int64(53),\n",
       " 'ar': np.int64(0),\n",
       " 'dear': np.int64(11),\n",
       " 'there': np.int64(79),\n",
       " 'take': np.int64(72),\n",
       " 'ask': np.int64(1),\n",
       " 'phone': np.int64(58),\n",
       " 'one': np.int64(57)}"
      ]
     },
     "execution_count": 107,
     "metadata": {},
     "output_type": "execute_result"
    }
   ],
   "source": [
    "cv.vocabulary_"
   ]
  },
  {
   "cell_type": "code",
   "execution_count": null,
   "id": "c4ea1b42-4fe7-4732-9bc9-8b018052eefb",
   "metadata": {},
   "outputs": [],
   "source": []
  }
 ],
 "metadata": {
  "kernelspec": {
   "display_name": "Python 3 (ipykernel)",
   "language": "python",
   "name": "python3"
  },
  "language_info": {
   "codemirror_mode": {
    "name": "ipython",
    "version": 3
   },
   "file_extension": ".py",
   "mimetype": "text/x-python",
   "name": "python",
   "nbconvert_exporter": "python",
   "pygments_lexer": "ipython3",
   "version": "3.12.0"
  }
 },
 "nbformat": 4,
 "nbformat_minor": 5
}
